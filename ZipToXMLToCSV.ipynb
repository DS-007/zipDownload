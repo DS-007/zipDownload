{
 "cells": [
  {
   "cell_type": "markdown",
   "metadata": {},
   "source": [
    "# Installation"
   ]
  },
  {
   "cell_type": "code",
   "execution_count": 95,
   "metadata": {},
   "outputs": [
    {
     "name": "stdout",
     "output_type": "stream",
     "text": [
      "Note: you may need to restart the kernel to use updated packages.\n"
     ]
    },
    {
     "name": "stderr",
     "output_type": "stream",
     "text": [
      "ERROR: Could not find a version that satisfies the requirement xml.dom.minidom (from versions: none)\n",
      "ERROR: No matching distribution found for xml.dom.minidom\n"
     ]
    }
   ],
   "source": [
    "pip install xml.dom.minidom "
   ]
  },
  {
   "cell_type": "code",
   "execution_count": 94,
   "metadata": {},
   "outputs": [
    {
     "name": "stdout",
     "output_type": "stream",
     "text": [
      "Collecting boto3\n",
      "  Downloading boto3-1.16.56-py2.py3-none-any.whl (130 kB)\n",
      "Collecting botocore<1.20.0,>=1.19.56\n",
      "  Downloading botocore-1.19.56-py2.py3-none-any.whl (7.2 MB)\n",
      "Collecting s3transfer<0.4.0,>=0.3.0\n",
      "  Downloading s3transfer-0.3.4-py2.py3-none-any.whl (69 kB)\n",
      "Collecting jmespath<1.0.0,>=0.7.1\n",
      "  Downloading jmespath-0.10.0-py2.py3-none-any.whl (24 kB)\n",
      "Requirement already satisfied: python-dateutil<3.0.0,>=2.1 in c:\\users\\ank\\anaconda3\\lib\\site-packages (from botocore<1.20.0,>=1.19.56->boto3) (2.8.1)\n",
      "Requirement already satisfied: urllib3<1.27,>=1.25.4; python_version != \"3.4\" in c:\\users\\ank\\anaconda3\\lib\\site-packages (from botocore<1.20.0,>=1.19.56->boto3) (1.25.8)\n",
      "Requirement already satisfied: six>=1.5 in c:\\users\\ank\\anaconda3\\lib\\site-packages (from python-dateutil<3.0.0,>=2.1->botocore<1.20.0,>=1.19.56->boto3) (1.14.0)\n",
      "Installing collected packages: jmespath, botocore, s3transfer, boto3\n",
      "Successfully installed boto3-1.16.56 botocore-1.19.56 jmespath-0.10.0 s3transfer-0.3.4\n",
      "Note: you may need to restart the kernel to use updated packages.\n"
     ]
    }
   ],
   "source": [
    "pip install boto3"
   ]
  },
  {
   "cell_type": "code",
   "execution_count": 98,
   "metadata": {},
   "outputs": [],
   "source": [
    "#Python code to illustrate parsing of XML files \n",
    "# importing the required modules \n",
    "\n",
    "import csv \n",
    "import requests \n",
    "import xml.etree.ElementTree as ET \n",
    "from urllib.request import urlopen\n",
    "from zipfile import ZipFile\n",
    "import xml.dom.minidom as md\n",
    "import pandas as pd\n",
    "\n",
    "import boto \n",
    "from boto.s3.key import Key\n",
    "import boto3\n",
    "\n",
    "from botocore.exceptions import NoCredentialsError"
   ]
  },
  {
   "cell_type": "code",
   "execution_count": 99,
   "metadata": {},
   "outputs": [],
   "source": [
    "# 1: Download the xml from this link"
   ]
  },
  {
   "cell_type": "code",
   "execution_count": 100,
   "metadata": {},
   "outputs": [],
   "source": [
    "def getXML():\n",
    "    try:\n",
    "        url = 'https://registers.esma.europa.eu/solr/esma_registers_firds_files/select?q=*&fq=publication_date:%5B2020-01-08T00:00:00Z+TO+2020-01-08T23:59:59Z%5D&wt=xml&indent=true&start=0&rows=100'\n",
    "\n",
    "        # creating HTTP response object from given url \n",
    "        resp = requests.get(url) \n",
    "\n",
    "            # saving the xml file \n",
    "        with open('csv1.xml', 'wb') as f: \n",
    "                f.write(resp.content) \n",
    "    except:\n",
    "        print('error while getting xml')"
   ]
  },
  {
   "cell_type": "code",
   "execution_count": 101,
   "metadata": {},
   "outputs": [],
   "source": [
    "# 2:From the xml, please parse through to the first download link whose   file_type is DLTINS "
   ]
  },
  {
   "cell_type": "code",
   "execution_count": 134,
   "metadata": {},
   "outputs": [],
   "source": [
    "# create element tree object \n",
    "def getDownloadLink():\n",
    "    try:\n",
    "        tree = ET.parse('csv1.xml') \n",
    "        # get root element \n",
    "        root = tree.getroot() \n",
    "        element=''\n",
    "        for item in root.findall('./result/doc'):\n",
    "\n",
    "            for child in item:\n",
    "                if child.attrib['name']=='file_type' and child.text == 'DLTINS':\n",
    "                    element=item\n",
    "                    break\n",
    "        for child in element:\n",
    "             if child.attrib['name']=='download_link' :\n",
    "                    download_link=child.text\n",
    "        return download_link\n",
    "    except:\n",
    "        print('error while getting download link of final xml')"
   ]
  },
  {
   "cell_type": "code",
   "execution_count": 135,
   "metadata": {},
   "outputs": [],
   "source": [
    "#download the zip Extract the xml from the zip."
   ]
  },
  {
   "cell_type": "code",
   "execution_count": 137,
   "metadata": {},
   "outputs": [],
   "source": [
    "def downloadAndExtractZip(download_link):\n",
    "    try:\n",
    "        zipurl = download_link\n",
    "            # Download the file from the URL\n",
    "        zipresp = urlopen(zipurl)\n",
    "            # Create a new file on the hard drive\n",
    "        tempzip = open(\"tempfile.zip\", \"wb\")\n",
    "            # Write the contents of the downloaded file into the new file\n",
    "        tempzip.write(zipresp.read())\n",
    "            # Close the newly-created file\n",
    "        tempzip.close()\n",
    "            # Re-open the newly-created file with ZipFile()\n",
    "        zf = ZipFile(\"tempfile.zip\")\n",
    "            # Extract its contents into <extraction_path>\n",
    "            # note that extractall will automatically create the path\n",
    "        zf.extractall()\n",
    "            # close the ZipFile instance\n",
    "        zf.close()\n",
    "    except:\n",
    "        print('error while downloading zip and extracting it')"
   ]
  },
  {
   "cell_type": "code",
   "execution_count": null,
   "metadata": {},
   "outputs": [],
   "source": []
  },
  {
   "cell_type": "code",
   "execution_count": 107,
   "metadata": {},
   "outputs": [],
   "source": [
    "#Convert the contents of the xml into a CSV with the following header:"
   ]
  },
  {
   "cell_type": "code",
   "execution_count": 125,
   "metadata": {},
   "outputs": [],
   "source": [
    "def xmltocSV():\n",
    "    try:\n",
    "        file = md.parse( \"DLTINS_20200108_03of03.xml\" )  \n",
    "        collection = file.documentElement\n",
    "        # Get all the movies in the collection\n",
    "        row = collection.getElementsByTagName(\"FinInstrmGnlAttrbts\")\n",
    "        columnIssr=collection.getElementsByTagName(\"Issr\")\n",
    "\n",
    "        Issr=[]\n",
    "        for values in columnIssr:\n",
    "           Issr.append( values.firstChild.nodeValue)\n",
    "        data=[]\n",
    "        for values in row:\n",
    "\n",
    "           id = values.getElementsByTagName('Id')[0]\n",
    "           FullNm = values.getElementsByTagName('FullNm')[0].childNodes[0].data\n",
    "           ClssfctnTp = values.getElementsByTagName('ClssfctnTp')[0].childNodes[0].data\n",
    "           CmmdtyDerivInd = values.getElementsByTagName('CmmdtyDerivInd')[0].childNodes[0].data\n",
    "           NtnlCcy = values.getElementsByTagName('NtnlCcy')[0].childNodes[0].data\n",
    "           data.append([id,FullNm,ClssfctnTp,ClssfctnTp,NtnlCcy])\n",
    "\n",
    "        df=pd.DataFrame(data,columns=[\n",
    "                                'FinInstrmGnlAttrbts.Id'\n",
    "                                ,'FinInstrmGnlAttrbts.FullNm'\n",
    "                                ,'FinInstrmGnlAttrbts.ClssfctnTp'\n",
    "                                ,'FinInstrmGnlAttrbts.CmmdtyDerivInd'\n",
    "                                ,'FinInstrmGnlAttrbts.NtnlCcy'\n",
    "                                ])\n",
    "        df['Issr']=Issr\n",
    "        df.to_csv('AWS.csv')\n",
    "    except:\n",
    "        print('Error while xml to csv conversion')"
   ]
  },
  {
   "cell_type": "code",
   "execution_count": 126,
   "metadata": {},
   "outputs": [],
   "source": [
    "# Store the csv from step 4) in an AWS S3 bucket"
   ]
  },
  {
   "cell_type": "code",
   "execution_count": 127,
   "metadata": {},
   "outputs": [],
   "source": [
    " def upload_to_aws(local_file, bucket, s3_file):\n",
    "            s3 = boto3.client('s3', aws_access_key_id=ACCESS_KEY,\n",
    "                              aws_secret_access_key=SECRET_KEY)\n",
    "\n",
    "            try:\n",
    "                s3.upload_file(local_file, bucket, s3_file)\n",
    "                print(\"Upload Successful\")\n",
    "                return True\n",
    "            except FileNotFoundError:\n",
    "                print(\"The file was not found\")\n",
    "                return False\n",
    "            except NoCredentialsError:\n",
    "                print(\"Credentials not available\")\n",
    "                return False\n",
    "            \n",
    "            \n",
    "def storeInAWSS3():\n",
    "        # require payment details so not safe, user can use there own key\n",
    "        ACCESS_KEY = 'XXXXXXXXXXXXXXXXXXXXXXX'\n",
    "        SECRET_KEY = 'XXXXXXXXXXXXXXXXXXXXXXXXXXXXXXXXXXXXXXXXXXXX'\n",
    "\n",
    "        uploaded = upload_to_aws('AWS.csv', 'bucket_name', 's3_file_name')"
   ]
  },
  {
   "cell_type": "code",
   "execution_count": 128,
   "metadata": {},
   "outputs": [],
   "source": [
    "#The above function should be run as an AWS Lambda (Optional)"
   ]
  },
  {
   "cell_type": "code",
   "execution_count": 129,
   "metadata": {},
   "outputs": [],
   "source": [
    "def Handler():\n",
    "    import os\n",
    "    import json\n",
    "\n",
    "    def lambda_handler(event, context):\n",
    "        json_region = os.environ['AWS_REGION']\n",
    "        return {\n",
    "            \"statusCode\": 200,\n",
    "            \"headers\": {\n",
    "                \"Content-Type\": \"application/json\"\n",
    "            },\n",
    "            \"body\": json.dumps({\n",
    "                \"Region \": json_region\n",
    "            })\n",
    "        }"
   ]
  },
  {
   "cell_type": "markdown",
   "metadata": {},
   "source": [
    "# PROCESS"
   ]
  },
  {
   "cell_type": "code",
   "execution_count": 131,
   "metadata": {},
   "outputs": [],
   "source": [
    "def main():\n",
    "    xml=getXML()\n",
    "    download_link=getDownloadLink()\n",
    "    downloadAndExtractZip(download_link)\n",
    "    xmltocSV()"
   ]
  },
  {
   "cell_type": "code",
   "execution_count": 132,
   "metadata": {},
   "outputs": [],
   "source": [
    "main()"
   ]
  },
  {
   "cell_type": "code",
   "execution_count": 138,
   "metadata": {},
   "outputs": [
    {
     "ename": "SyntaxError",
     "evalue": "invalid syntax (<ipython-input-138-dd914855d0e4>, line 1)",
     "output_type": "error",
     "traceback": [
      "\u001b[1;36m  File \u001b[1;32m\"<ipython-input-138-dd914855d0e4>\"\u001b[1;36m, line \u001b[1;32m1\u001b[0m\n\u001b[1;33m    git remote add origin https://github.com/DS-007/zipDownload.git\u001b[0m\n\u001b[1;37m             ^\u001b[0m\n\u001b[1;31mSyntaxError\u001b[0m\u001b[1;31m:\u001b[0m invalid syntax\n"
     ]
    }
   ],
   "source": [
    "git remote add origin https://github.com/DS-007/zipDownload.git\n",
    "git branch -M main\n",
    "git push -u origin main"
   ]
  },
  {
   "cell_type": "code",
   "execution_count": null,
   "metadata": {},
   "outputs": [],
   "source": []
  }
 ],
 "metadata": {
  "kernelspec": {
   "display_name": "Python 3",
   "language": "python",
   "name": "python3"
  },
  "language_info": {
   "codemirror_mode": {
    "name": "ipython",
    "version": 3
   },
   "file_extension": ".py",
   "mimetype": "text/x-python",
   "name": "python",
   "nbconvert_exporter": "python",
   "pygments_lexer": "ipython3",
   "version": "3.7.6"
  }
 },
 "nbformat": 4,
 "nbformat_minor": 4
}
